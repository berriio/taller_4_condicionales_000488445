{
  "nbformat": 4,
  "nbformat_minor": 0,
  "metadata": {
    "colab": {
      "provenance": [],
      "authorship_tag": "ABX9TyPeUhrGLeuTNQagJSmuLAt+",
      "include_colab_link": true
    },
    "kernelspec": {
      "name": "python3",
      "display_name": "Python 3"
    },
    "language_info": {
      "name": "python"
    }
  },
  "cells": [
    {
      "cell_type": "markdown",
      "metadata": {
        "id": "view-in-github",
        "colab_type": "text"
      },
      "source": [
        "<a href=\"https://colab.research.google.com/github/berriio/taller_4_condicionales_000488445/blob/main/taller_4_iynb.ipynb\" target=\"_parent\"><img src=\"https://colab.research.google.com/assets/colab-badge.svg\" alt=\"Open In Colab\"/></a>"
      ]
    },
    {
      "cell_type": "code",
      "execution_count": 27,
      "metadata": {
        "id": "1UPwLYj-fX06",
        "colab": {
          "base_uri": "https://localhost:8080/"
        },
        "outputId": "c8103d52-f775-4741-bff6-b73ec24ba25a"
      },
      "outputs": [
        {
          "output_type": "stream",
          "name": "stdout",
          "text": [
            "ingresa la calificacio5.0\n",
            "aprobo\n"
          ]
        }
      ],
      "source": [
        "## ejercicio 1 ##\n",
        "\n",
        "calificacion = float(input(\"ingresa la calificacio\"))\n",
        "\n",
        "if calificacion > 3.0:\n",
        "\n",
        "   print(\"aprobo\")\n",
        "\n",
        "else:\n",
        "   print(\"reprobo\")\n",
        "\n"
      ]
    },
    {
      "cell_type": "code",
      "source": [
        "## ejercicio 2 ##\n",
        "\n",
        "numero = float(input(\"ingrese el numero \"))\n",
        "\n",
        "\n",
        "if numero > 0:\n",
        "\n",
        "  print(\"positivo\")\n",
        "if numero < 0:\n",
        " print(\"negativo\")\n",
        "if numero == 0:\n",
        " print(\"cero\")\n"
      ],
      "metadata": {
        "colab": {
          "base_uri": "https://localhost:8080/"
        },
        "id": "S2E5S63Iimfs",
        "outputId": "d52907ea-bbfa-423f-f4a5-a468c58d3f99"
      },
      "execution_count": 4,
      "outputs": [
        {
          "output_type": "stream",
          "name": "stdout",
          "text": [
            "ingrese el numero 1\n",
            "positivo\n"
          ]
        }
      ]
    },
    {
      "cell_type": "code",
      "source": [
        "## ejercicio 3 ##\n",
        "\n",
        "contraseña = input(\"ingresar contraseña\")\n",
        "if contraseña == \"mar123\":\n",
        "   print(\"cotraseña valida\")\n",
        "else:\n",
        "  print(\"contraseña incorrecta\")"
      ],
      "metadata": {
        "colab": {
          "base_uri": "https://localhost:8080/"
        },
        "id": "ntq3ePf0ueni",
        "outputId": "82e85c30-5452-4f1e-83ef-6ecbf3411c0b"
      },
      "execution_count": 16,
      "outputs": [
        {
          "output_type": "stream",
          "name": "stdout",
          "text": [
            "ingresar contraseñamar123\n",
            "cotraseña valida\n"
          ]
        }
      ]
    },
    {
      "cell_type": "markdown",
      "source": [],
      "metadata": {
        "id": "7dgZcKOTiaJM"
      }
    },
    {
      "cell_type": "code",
      "source": [
        "## ejercicio 4 ##\n",
        "\n",
        "numero = float(input(\"igrese del numero\"))\n",
        "\n",
        "if numero % 2 == 0:\n",
        "  print(\"es par\")\n",
        "else:\n",
        " print(\"es inpar\")"
      ],
      "metadata": {
        "colab": {
          "base_uri": "https://localhost:8080/"
        },
        "id": "DWx1KKGZTMo5",
        "outputId": "9b98e225-3874-4c81-d290-6c3282ec5b5c"
      },
      "execution_count": 17,
      "outputs": [
        {
          "output_type": "stream",
          "name": "stdout",
          "text": [
            "igrese del numero28\n",
            "es par\n"
          ]
        }
      ]
    },
    {
      "cell_type": "code",
      "source": [
        "## ejercicio 5 ##\n",
        "\n",
        "print(\"ingresar cinco numeros\")\n",
        "n1 = int(input(\"numero 1:\"))\n",
        "n2 = int(input(\"numero 2:\"))\n",
        "n3 = int(input(\"numero 3:\"))\n",
        "n4 = int(input(\"numero 4:\"))\n",
        "n5 = int(input(\"numero 5:\"))\n",
        "\n",
        "if n1>=n2 and n1>=n3 and n1>=n4 and n1>=n5:\n",
        "  print(f\"el numero mayor es :{n1}\")\n",
        "elif n2>=n1 and n2>=n3 and n2>=n4 and n2>=n5:\n",
        " print(f\"el numero mayor es :{n2}\")\n",
        "elif n3>=n1 and n3>=n2 and n3>=n4 and n3>=n5:\n",
        " print(f\"el numero mayor es :{n3}\")\n",
        "elif n4>=n1 and n4>=n2 and n4>=n3 and n4>=n5:\n",
        " print(f\"el numero mayor es :{n4}\")\n",
        "else :\n",
        "  print(f\"el numero mayor es: {n5}\")\n",
        "\n",
        ""
      ],
      "metadata": {
        "colab": {
          "base_uri": "https://localhost:8080/"
        },
        "id": "HALl5jXCXhYU",
        "outputId": "c5e70b8a-85e1-4c8d-9440-bbce37f1f3c7"
      },
      "execution_count": 33,
      "outputs": [
        {
          "output_type": "stream",
          "name": "stdout",
          "text": [
            "ingresar cinco numeros\n",
            "numero 1:586\n",
            "numero 2:589\n",
            "numero 3:666\n",
            "numero 4:258\n",
            "numero 5:145\n",
            "el numero mayor es :666.0\n"
          ]
        }
      ]
    },
    {
      "cell_type": "code",
      "source": [
        "## ejercici 6 ##\n",
        "\n",
        "edad = float(input(\"ingrese su edad \"))\n",
        "\n",
        "if edad >=0and edad <=12:\n",
        "  print(\"niño\")\n",
        "if edad >=13and edad<=19:\n",
        "  print(\"adolecente\")\n",
        "if edad >= 20 and edad <=64:\n",
        " print(\"adulto\")\n",
        "else:\n",
        " print(\"adulto mayor\")\n",
        "\n",
        "\n"
      ],
      "metadata": {
        "colab": {
          "base_uri": "https://localhost:8080/"
        },
        "id": "GbT4S2PCsPc_",
        "outputId": "de49829a-9efc-4de0-f528-98aeffb9561f"
      },
      "execution_count": 41,
      "outputs": [
        {
          "output_type": "stream",
          "name": "stdout",
          "text": [
            "ingrese su edad 69\n",
            "adulto mayor\n"
          ]
        }
      ]
    }
  ]
}