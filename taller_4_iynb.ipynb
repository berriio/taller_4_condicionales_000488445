{
  "nbformat": 4,
  "nbformat_minor": 0,
  "metadata": {
    "colab": {
      "provenance": [],
      "authorship_tag": "ABX9TyNb1GrFWoMknl2Z8j316jDz",
      "include_colab_link": true
    },
    "kernelspec": {
      "name": "python3",
      "display_name": "Python 3"
    },
    "language_info": {
      "name": "python"
    }
  },
  "cells": [
    {
      "cell_type": "markdown",
      "metadata": {
        "id": "view-in-github",
        "colab_type": "text"
      },
      "source": [
        "<a href=\"https://colab.research.google.com/github/berriio/taller_4_condicionales_000488445/blob/main/taller_4_iynb.ipynb\" target=\"_parent\"><img src=\"https://colab.research.google.com/assets/colab-badge.svg\" alt=\"Open In Colab\"/></a>"
      ]
    },
    {
      "cell_type": "code",
      "execution_count": null,
      "metadata": {
        "id": "1UPwLYj-fX06",
        "colab": {
          "base_uri": "https://localhost:8080/"
        },
        "outputId": "0a52a5c0-b7ba-428c-baad-e93831701279"
      },
      "outputs": [
        {
          "output_type": "stream",
          "name": "stdout",
          "text": [
            "ingresa la calificacio3.5\n",
            "aprobo\n"
          ]
        }
      ],
      "source": [
        "## ejercicio 1 ##\n",
        "\n",
        "calificacion = float(input(\"ingresa la calificacio\"))\n",
        "\n",
        "if calificacion > 3.0:\n",
        "\n",
        "   print(\"aprobo\")\n",
        "\n",
        "else:\n",
        "   print(\"reprobo\")\n",
        "\n"
      ]
    },
    {
      "cell_type": "code",
      "source": [
        "## ejercicio 2 ##\n",
        "\n",
        "numero = float(input(\"ingrese el numero \"))\n",
        "\n",
        "\n",
        "if numero > 0:\n",
        "\n",
        "  print(\"positivo\")\n",
        "if numero < 0:\n",
        " print(\"negativo\")\n",
        "if numero == 0:\n",
        " print(\"cero\")\n"
      ],
      "metadata": {
        "colab": {
          "base_uri": "https://localhost:8080/"
        },
        "id": "S2E5S63Iimfs",
        "outputId": "dddd2d3d-a9d3-4324-f970-9a1b674eb889"
      },
      "execution_count": null,
      "outputs": [
        {
          "output_type": "stream",
          "name": "stdout",
          "text": [
            "ingrese el numero 0\n",
            "cero\n"
          ]
        }
      ]
    },
    {
      "cell_type": "code",
      "source": [
        "## ejercicio 3 ##\n",
        "\n",
        "contraseña = input(\"ingresar contraseña\")\n",
        "if contraseña == \"mar123\":\n",
        "   print(\"cotraseña valida\")\n",
        "else:\n",
        "  print(\"error\")"
      ],
      "metadata": {
        "colab": {
          "base_uri": "https://localhost:8080/"
        },
        "id": "ntq3ePf0ueni",
        "outputId": "c176e011-e218-4230-9aa0-a02036297a9c"
      },
      "execution_count": null,
      "outputs": [
        {
          "output_type": "stream",
          "name": "stdout",
          "text": [
            "ingresar contraseñamar123\n",
            "cotraseña valida\n"
          ]
        }
      ]
    },
    {
      "cell_type": "markdown",
      "source": [],
      "metadata": {
        "id": "7dgZcKOTiaJM"
      }
    }
  ]
}